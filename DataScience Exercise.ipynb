{
 "cells": [
  {
   "cell_type": "markdown",
   "id": "d2f0df6b-f659-49f7-89ad-c37e0a52cff9",
   "metadata": {},
   "source": [
    "# Data Science Tools and Ecosystem"
   ]
  },
  {
   "cell_type": "markdown",
   "id": "ab0f3429-ea23-4f56-bc6e-fdea53bd2f2e",
   "metadata": {},
   "source": [
    "In this notebook, Data Science Tools and Ecosystem are summarized.\n",
    "\n"
   ]
  },
  {
   "cell_type": "markdown",
   "id": "b725f7b1-0d2a-4ab5-ad29-b0eae666a262",
   "metadata": {},
   "source": [
    "**Objectives:**\n",
    "* List of the popular languages for Data Science\n",
    "* Lista of the commonly used  libraries.\n",
    "* Some examples of arithmetic expresions in python."
   ]
  },
  {
   "cell_type": "markdown",
   "id": "d6886123-2562-458b-814c-0f610872abf2",
   "metadata": {},
   "source": [
    "Some of the popular languages that Data Scientists use are:\n",
    "1. Python\n",
    "2. R\n",
    "3. Java"
   ]
  },
  {
   "cell_type": "markdown",
   "id": "629ffd08-8d5a-49a7-bfec-6282a3d35e5f",
   "metadata": {},
   "source": [
    "Some of the commonly used libraries used by Data Scientists include:\n",
    "1. Pandas\n",
    "2. Matplotlib\n",
    "3. Numpy"
   ]
  },
  {
   "cell_type": "markdown",
   "id": "8b53674d-2131-4803-9bf1-3c2a1ed10bd2",
   "metadata": {},
   "source": [
    "| Data Science Tools |\n",
    "|--------------------|\n",
    "| Jupyter Notebooks  |\n",
    "| Apache Spark       |\n",
    "| Hadoop             |"
   ]
  },
  {
   "cell_type": "markdown",
   "id": "0aea6eae-d949-43bd-97d2-0b5b805d8061",
   "metadata": {},
   "source": [
    "### Below are a few examples of evaluating arithmetic expressions in Python.\n"
   ]
  },
  {
   "cell_type": "code",
   "execution_count": 3,
   "id": "d61fa456-5108-468f-ad6d-238561e107f2",
   "metadata": {},
   "outputs": [
    {
     "data": {
      "text/plain": [
       "17"
      ]
     },
     "execution_count": 3,
     "metadata": {},
     "output_type": "execute_result"
    }
   ],
   "source": [
    "(3 * 4 ) + 5\n",
    "\n",
    "#This a simple arithmetic expression to mutiply then add integers"
   ]
  },
  {
   "cell_type": "code",
   "execution_count": 9,
   "id": "03c95df0-1ab7-4dec-a503-e1414ba402c1",
   "metadata": {},
   "outputs": [
    {
     "name": "stdout",
     "output_type": "stream",
     "text": [
      "3.3333333333333335\n"
     ]
    }
   ],
   "source": [
    "minutes = 200\n",
    "hours = minutes / 60\n",
    "\n",
    "print(hours)\n",
    "#This will convert 200 minutes to hours by diving by 60"
   ]
  },
  {
   "cell_type": "markdown",
   "id": "6455f03e-80c2-4c43-9faf-d5d16f084e8e",
   "metadata": {},
   "source": [
    "## Author \n",
    "Jaime Arias"
   ]
  }
 ],
 "metadata": {
  "kernelspec": {
   "display_name": "Python 3 (ipykernel)",
   "language": "python",
   "name": "python3"
  },
  "language_info": {
   "codemirror_mode": {
    "name": "ipython",
    "version": 3
   },
   "file_extension": ".py",
   "mimetype": "text/x-python",
   "name": "python",
   "nbconvert_exporter": "python",
   "pygments_lexer": "ipython3",
   "version": "3.12.8"
  }
 },
 "nbformat": 4,
 "nbformat_minor": 5
}
